{
 "cells": [
  {
   "cell_type": "code",
   "execution_count": 1,
   "metadata": {
    "ExecuteTime": {
     "end_time": "2018-05-09T12:05:53.218357Z",
     "start_time": "2018-05-09T12:05:32.276411Z"
    }
   },
   "outputs": [],
   "source": [
    "# import neccessary libraries\n",
    "import numpy as np\n",
    "import pandas as pd\n",
    "import seaborn as sns\n",
    "import matplotlib.pyplot as plt\n",
    "\n",
    "# show plot intermediately under the calling cell\n",
    "%matplotlib inline\n",
    "\n",
    "# disable some warnings\n",
    "import warnings\n",
    "warnings.simplefilter(action = \"ignore\")"
   ]
  },
  {
   "cell_type": "code",
   "execution_count": 2,
   "metadata": {
    "ExecuteTime": {
     "end_time": "2018-05-09T12:05:56.006640Z",
     "start_time": "2018-05-09T12:05:53.222360Z"
    }
   },
   "outputs": [
    {
     "data": {
      "text/html": [
       "<div>\n",
       "<style scoped>\n",
       "    .dataframe tbody tr th:only-of-type {\n",
       "        vertical-align: middle;\n",
       "    }\n",
       "\n",
       "    .dataframe tbody tr th {\n",
       "        vertical-align: top;\n",
       "    }\n",
       "\n",
       "    .dataframe thead th {\n",
       "        text-align: right;\n",
       "    }\n",
       "</style>\n",
       "<table border=\"1\" class=\"dataframe\">\n",
       "  <thead>\n",
       "    <tr style=\"text-align: right;\">\n",
       "      <th></th>\n",
       "      <th>reviewText</th>\n",
       "      <th>summary</th>\n",
       "      <th>overall</th>\n",
       "    </tr>\n",
       "  </thead>\n",
       "  <tbody>\n",
       "    <tr>\n",
       "      <th>0</th>\n",
       "      <td>It's hard to believe \"Memory of Trees\" came ou...</td>\n",
       "      <td>Enya's last great album</td>\n",
       "      <td>good</td>\n",
       "    </tr>\n",
       "    <tr>\n",
       "      <th>1</th>\n",
       "      <td>A clasically-styled and introverted album, Mem...</td>\n",
       "      <td>Enya at her most elegant</td>\n",
       "      <td>good</td>\n",
       "    </tr>\n",
       "  </tbody>\n",
       "</table>\n",
       "</div>"
      ],
      "text/plain": [
       "                                          reviewText  \\\n",
       "0  It's hard to believe \"Memory of Trees\" came ou...   \n",
       "1  A clasically-styled and introverted album, Mem...   \n",
       "\n",
       "                    summary overall  \n",
       "0   Enya's last great album    good  \n",
       "1  Enya at her most elegant    good  "
      ]
     },
     "execution_count": 2,
     "metadata": {},
     "output_type": "execute_result"
    }
   ],
   "source": [
    "df = pd.read_csv('reviews_Digital_Music_5-cleaned.csv')\n",
    "df.loc[df.reviewText.isna(), 'reviewText']=''\n",
    "df.head(2)"
   ]
  },
  {
   "cell_type": "code",
   "execution_count": 3,
   "metadata": {
    "ExecuteTime": {
     "end_time": "2018-05-09T12:06:04.626482Z",
     "start_time": "2018-05-09T12:05:56.012646Z"
    }
   },
   "outputs": [],
   "source": [
    "# split df into 3 df of each columns:\n",
    "revs, sums, ovas = (df.reviewText, df.summary, df.overall)\n",
    "\n",
    "from sklearn.model_selection import train_test_split\n",
    "\n",
    "# prepare the train and test data.\n",
    "rev_x_train, rev_x_test, rev_y_train, rev_y_test = train_test_split(\n",
    "    revs, ovas, test_size=0.2, random_state=25)\n",
    "sum_x_train, sum_x_test, sum_y_train, sum_y_test = train_test_split(\n",
    "    sums, ovas, test_size=0.2, random_state=25)"
   ]
  },
  {
   "cell_type": "code",
   "execution_count": 4,
   "metadata": {
    "ExecuteTime": {
     "end_time": "2018-05-09T12:06:46.660797Z",
     "start_time": "2018-05-09T12:06:04.630984Z"
    }
   },
   "outputs": [],
   "source": [
    "from sklearn.feature_extraction.text import TfidfVectorizer\n",
    "\n",
    "# tf-idf vectorizer\n",
    "vectorizer = TfidfVectorizer(max_df = 0.5, stop_words='english',\n",
    "                             sublinear_tf=True, use_idf=True,\n",
    "                            lowercase=True)\n",
    "# create vectorized x \n",
    "rev_x_train_vectors = vectorizer.fit_transform(rev_x_train)\n",
    "rev_x_test_vectors = vectorizer.transform(rev_x_test)\n",
    "\n",
    "\n",
    "sum_x_train_vectors = vectorizer.fit_transform(sum_x_train)\n",
    "sum_x_test_vectors = vectorizer.transform(sum_x_test)\n",
    "\n",
    "# these 2 vectors are for k-fold validation\n",
    "rev_x_vectors = vectorizer.fit_transform(revs)\n",
    "sum_x_vectors = vectorizer.fit_transform(sums)"
   ]
  },
  {
   "cell_type": "code",
   "execution_count": 22,
   "metadata": {
    "ExecuteTime": {
     "end_time": "2018-05-09T12:58:29.314298Z",
     "start_time": "2018-05-09T12:58:29.151107Z"
    }
   },
   "outputs": [
    {
     "data": {
      "text/plain": [
       "good       52116\n",
       "neutral     6789\n",
       "bad         5801\n",
       "Name: overall, dtype: int64"
      ]
     },
     "execution_count": 22,
     "metadata": {},
     "output_type": "execute_result"
    }
   ],
   "source": [
    "df.overall.value_counts()"
   ]
  },
  {
   "cell_type": "markdown",
   "metadata": {},
   "source": [
    "# Classify using Naive Bayes models"
   ]
  },
  {
   "cell_type": "code",
   "execution_count": 13,
   "metadata": {
    "ExecuteTime": {
     "end_time": "2018-05-09T12:15:52.438626Z",
     "start_time": "2018-05-09T12:15:46.487577Z"
    },
    "scrolled": true
   },
   "outputs": [
    {
     "name": "stdout",
     "output_type": "stream",
     "text": [
      "hold-out: 0.8072168134755061\n",
      "cross validation (mean of 10 cv): 0.8047012750461725\n",
      "Classification_report: \n",
      "              precision    recall  f1-score   support\n",
      "\n",
      "        bad       1.00      0.00      0.00      1134\n",
      "       good       0.81      1.00      0.89     10447\n",
      "    neutral       0.00      0.00      0.00      1361\n",
      "\n",
      "avg / total       0.74      0.81      0.72     12942\n",
      "\n"
     ]
    }
   ],
   "source": [
    "# tuning using class_weight\n",
    "# Classify overall using:\n",
    "    # reviewText data\n",
    "    # Naive Bayes model\n",
    "    # hold-out validation and k-fold validation and clf_report\n",
    "from sklearn.naive_bayes import MultinomialNB\n",
    "rev_nb_clf = MultinomialNB()\n",
    "rev_nb_clf.fit(rev_x_train_vectors, rev_y_train)\n",
    "print('hold-out:', rev_nb_clf.score(rev_x_test_vectors, rev_y_test))\n",
    "\n",
    "from sklearn.model_selection import cross_val_score\n",
    "print('cross validation (mean of 10 cv):', \n",
    "      cross_val_score(rev_nb_clf, rev_x_vectors, ovas, cv=10).mean())\n",
    "\n",
    "from sklearn.metrics import classification_report\n",
    "print('Classification_report: \\n', \n",
    "      classification_report(\n",
    "          y_true=rev_y_test,\n",
    "          y_pred=rev_nb_clf.predict(rev_x_test_vectors)))"
   ]
  },
  {
   "cell_type": "code",
   "execution_count": 12,
   "metadata": {
    "ExecuteTime": {
     "end_time": "2018-05-09T12:15:36.171746Z",
     "start_time": "2018-05-09T12:15:32.872038Z"
    }
   },
   "outputs": [
    {
     "name": "stdout",
     "output_type": "stream",
     "text": [
      "hold-out: 0.8149435944985319\n",
      "cross validation (mean of 10 cv): 0.8111921461671352\n",
      "Classification_report: \n",
      "              precision    recall  f1-score   support\n",
      "\n",
      "        bad       0.77      0.09      0.16      1134\n",
      "       good       0.82      1.00      0.90     10447\n",
      "    neutral       0.40      0.02      0.04      1361\n",
      "\n",
      "avg / total       0.77      0.81      0.74     12942\n",
      "\n"
     ]
    }
   ],
   "source": [
    "# Classify overall using:\n",
    "    # Summary data \n",
    "    # Naive Bayes model\n",
    "    # hold-out validation and k-fold validation and clf_report\n",
    "sum_nb_clf = MultinomialNB()\n",
    "sum_nb_clf.fit(sum_x_train_vectors, sum_y_train)\n",
    "print('hold-out:', sum_nb_clf.score(sum_x_test_vectors, sum_y_test))\n",
    "print('cross validation (mean of 10 cv):', \n",
    "      cross_val_score(sum_nb_clf, sum_x_vectors, ovas, cv=10).mean())\n",
    "print('Classification_report: \\n', \n",
    "      classification_report(\n",
    "          y_true=sum_y_test,\n",
    "          y_pred=sum_nb_clf.predict(sum_x_test_vectors)))"
   ]
  },
  {
   "cell_type": "markdown",
   "metadata": {},
   "source": [
    "# Classify using SVM"
   ]
  },
  {
   "cell_type": "code",
   "execution_count": 8,
   "metadata": {},
   "outputs": [
    {
     "name": "stdout",
     "output_type": "stream",
     "text": [
      "hold-out: 0.8072168134755061\n",
      "cross validation (mean of 10 cv): 0.8054276306863761\n"
     ]
    }
   ],
   "source": [
    "# Classify overall using:\n",
    "    # reviewText data\n",
    "    # SVM model\n",
    "    # hold-out validation and k-fold validation\n",
    "from sklearn.svm import SVC\n",
    "rev_svm_clf = SVC()\n",
    "rev_svm_clf.fit(rev_x_train_vectors, rev_y_train)\n",
    "print('hold-out:', rev_svm_clf.score(rev_x_test_vectors, rev_y_test))\n",
    "print('cross validation (mean of 10 cv):', \n",
    "      cross_val_score(rev_svm_clf, rev_x_vectors, ovas, cv=10).mean())"
   ]
  },
  {
   "cell_type": "code",
   "execution_count": 9,
   "metadata": {},
   "outputs": [
    {
     "name": "stdout",
     "output_type": "stream",
     "text": [
      "hold-out: 0.8072168134755061\n",
      "cross validation (mean of 10 cv): 0.8054276306863761\n"
     ]
    }
   ],
   "source": [
    "# Classify overall using:\n",
    "    # summary data \n",
    "    # SVM model\n",
    "    # hold-out validation and k-fold validation\n",
    "sum_svm_clf = SVC()\n",
    "sum_svm_clf.fit(sum_x_train_vectors, sum_y_train)\n",
    "print('hold-out:', sum_svm_clf.score(sum_x_test_vectors, sum_y_test))\n",
    "print('cross validation (mean of 10 cv):', \n",
    "      cross_val_score(sum_svm_clf, sum_x_vectors, ovas, cv=10).mean())"
   ]
  },
  {
   "cell_type": "markdown",
   "metadata": {},
   "source": [
    "# Conclusion\n",
    "From the data gotten from 4 models, the results show that classying using Summary features, naive bayes model gives highest score from both hold-out validation (0.8149) and k-fold validation (0.8111)."
   ]
  }
 ],
 "metadata": {
  "hide_input": false,
  "kernelspec": {
   "display_name": "Python 3",
   "language": "python",
   "name": "python3"
  },
  "language_info": {
   "codemirror_mode": {
    "name": "ipython",
    "version": 3
   },
   "file_extension": ".py",
   "mimetype": "text/x-python",
   "name": "python",
   "nbconvert_exporter": "python",
   "pygments_lexer": "ipython3",
   "version": "3.6.4"
  },
  "toc": {
   "base_numbering": 1,
   "nav_menu": {},
   "number_sections": false,
   "sideBar": true,
   "skip_h1_title": false,
   "title_cell": "Table of Contents",
   "title_sidebar": "Contents",
   "toc_cell": false,
   "toc_position": {},
   "toc_section_display": true,
   "toc_window_display": true
  },
  "varInspector": {
   "cols": {
    "lenName": 16,
    "lenType": 16,
    "lenVar": 40
   },
   "kernels_config": {
    "python": {
     "delete_cmd_postfix": "",
     "delete_cmd_prefix": "del ",
     "library": "var_list.py",
     "varRefreshCmd": "print(var_dic_list())"
    },
    "r": {
     "delete_cmd_postfix": ") ",
     "delete_cmd_prefix": "rm(",
     "library": "var_list.r",
     "varRefreshCmd": "cat(var_dic_list()) "
    }
   },
   "position": {
    "height": "404px",
    "left": "829px",
    "right": "20px",
    "top": "108px",
    "width": "464px"
   },
   "types_to_exclude": [
    "module",
    "function",
    "builtin_function_or_method",
    "instance",
    "_Feature"
   ],
   "window_display": false
  }
 },
 "nbformat": 4,
 "nbformat_minor": 2
}
