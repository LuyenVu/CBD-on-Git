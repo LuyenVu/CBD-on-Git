{
 "cells": [
  {
   "cell_type": "code",
   "execution_count": 1,
   "metadata": {},
   "outputs": [],
   "source": [
    "import numpy as np\n",
    "import pandas as pd\n",
    "import seaborn as sns\n",
    "import matplotlib.pyplot as plt\n",
    "\n",
    "# show plot intermediately under the calling cell\n",
    "%matplotlib inline"
   ]
  },
  {
   "cell_type": "code",
   "execution_count": 2,
   "metadata": {},
   "outputs": [],
   "source": [
    "# read CSV files\n",
    "df = pd.read_csv('Melbourne_housing_FULL.csv')\n",
    "\n",
    "#set pandas settings\n",
    "pd.set_option('display.max_columns', None)\n",
    "\n",
    "# disable some warning\n",
    "import warnings\n",
    "warnings.simplefilter(action = \"ignore\", category = RuntimeWarning)"
   ]
  },
  {
   "cell_type": "code",
   "execution_count": 3,
   "metadata": {},
   "outputs": [
    {
     "data": {
      "text/plain": [
       "(34857, 21)"
      ]
     },
     "execution_count": 3,
     "metadata": {},
     "output_type": "execute_result"
    }
   ],
   "source": [
    "df.shape"
   ]
  },
  {
   "cell_type": "code",
   "execution_count": 6,
   "metadata": {},
   "outputs": [],
   "source": [
    "# clean missing values\n",
    "df.Price.fillna(df.Price.mean(), inplace=True)\n",
    "df.drop(df[df.Price > 7000000].index, inplace=True)\n",
    "df.drop(df[df.Rooms == 12].index, inplace=True)\n",
    "# Distance and Postcode have missing value in the same row: drop the row\n",
    "df.drop(df[df.Postcode.isnull()].index, inplace=True)\n",
    "df.Bedroom2.fillna(df.Bedroom2.mode()[0], inplace=True)\n",
    "df.drop(df[df.Bedroom2 > 10].index, inplace=True)\n",
    "df.Bathroom.fillna(df.Bathroom.mode()[0], inplace=True)\n",
    "df.Car.fillna(df.Car.mode()[0], inplace=True)\n",
    "df.Landsize.fillna(df.Landsize.mean(), inplace=True)\n",
    "df.BuildingArea.fillna(df.BuildingArea.mean(), inplace=True)\n",
    "df.YearBuilt.fillna(df.YearBuilt.mode()[0], inplace=True)\n",
    "df.drop(df[df.YearBuilt <= 1850].index, inplace=True)\n",
    "df.drop(df[df.YearBuilt == 2106].index, inplace=True)\n",
    "df.CouncilArea.fillna(\"\", inplace=True)\n",
    "df.Lattitude.fillna(df.Lattitude.mean(), inplace=True)\n",
    "df.Longtitude.fillna(df.Longtitude.mean(), inplace=True)\n",
    "df.Regionname.fillna(\"\", inplace=True)\n",
    "df.Propertycount.fillna(df.Propertycount.mean(), inplace=True)"
   ]
  },
  {
   "cell_type": "code",
   "execution_count": null,
   "metadata": {
    "scrolled": true
   },
   "outputs": [],
   "source": [
    "df.Price.value_counts().sort_index(ascending=False).head(10)"
   ]
  },
  {
   "cell_type": "code",
   "execution_count": null,
   "metadata": {
    "scrolled": true
   },
   "outputs": [],
   "source": [
    "df.YearBuilt.value_counts().sort_index(ascending=False).tail()"
   ]
  },
  {
   "cell_type": "code",
   "execution_count": null,
   "metadata": {},
   "outputs": [],
   "source": [
    "df[df.Price > 7000000]"
   ]
  },
  {
   "cell_type": "code",
   "execution_count": 7,
   "metadata": {},
   "outputs": [],
   "source": [
    "df.to_csv('Melbourne_housing_FULL-cleaned.csv', index=False)"
   ]
  }
 ],
 "metadata": {
  "hide_input": false,
  "kernelspec": {
   "display_name": "Python 3",
   "language": "python",
   "name": "python3"
  },
  "language_info": {
   "codemirror_mode": {
    "name": "ipython",
    "version": 3
   },
   "file_extension": ".py",
   "mimetype": "text/x-python",
   "name": "python",
   "nbconvert_exporter": "python",
   "pygments_lexer": "ipython3",
   "version": "3.6.4"
  },
  "toc": {
   "base_numbering": 1,
   "nav_menu": {},
   "number_sections": false,
   "sideBar": true,
   "skip_h1_title": false,
   "title_cell": "Table of Contents",
   "title_sidebar": "Contents",
   "toc_cell": false,
   "toc_position": {},
   "toc_section_display": true,
   "toc_window_display": false
  },
  "varInspector": {
   "cols": {
    "lenName": 16,
    "lenType": 16,
    "lenVar": 40
   },
   "kernels_config": {
    "python": {
     "delete_cmd_postfix": "",
     "delete_cmd_prefix": "del ",
     "library": "var_list.py",
     "varRefreshCmd": "print(var_dic_list())"
    },
    "r": {
     "delete_cmd_postfix": ") ",
     "delete_cmd_prefix": "rm(",
     "library": "var_list.r",
     "varRefreshCmd": "cat(var_dic_list()) "
    }
   },
   "types_to_exclude": [
    "module",
    "function",
    "builtin_function_or_method",
    "instance",
    "_Feature"
   ],
   "window_display": false
  }
 },
 "nbformat": 4,
 "nbformat_minor": 2
}
