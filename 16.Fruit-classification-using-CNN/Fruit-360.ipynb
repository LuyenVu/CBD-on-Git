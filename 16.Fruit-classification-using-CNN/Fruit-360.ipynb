{
 "cells": [
  {
   "cell_type": "code",
   "execution_count": 1,
   "metadata": {
    "ExecuteTime": {
     "end_time": "2018-06-27T07:10:58.604824Z",
     "start_time": "2018-06-27T07:10:54.924590Z"
    }
   },
   "outputs": [
    {
     "name": "stderr",
     "output_type": "stream",
     "text": [
      "C:\\Users\\huang\\Anaconda3\\lib\\site-packages\\h5py\\__init__.py:36: FutureWarning: Conversion of the second argument of issubdtype from `float` to `np.floating` is deprecated. In future, it will be treated as `np.float64 == np.dtype(float).type`.\n",
      "  from ._conv import register_converters as _register_converters\n",
      "Using TensorFlow backend.\n"
     ]
    }
   ],
   "source": [
    "import numpy as np\n",
    "import pandas as pd\n",
    "import keras \n",
    "import tensorflow as tf\n",
    "import matplotlib.pyplot as plt\n",
    "%matplotlib inline\n",
    "import cv2\n",
    "import glob\n",
    "import os"
   ]
  },
  {
   "cell_type": "code",
   "execution_count": 2,
   "metadata": {
    "ExecuteTime": {
     "end_time": "2018-06-27T07:11:25.756795Z",
     "start_time": "2018-06-27T07:10:58.606823Z"
    }
   },
   "outputs": [],
   "source": [
    "training_fruit_img = []\n",
    "training_label = []\n",
    "for dir_path in glob.glob(\"fruits-360/Training/*\"):\n",
    "    img_label = dir_path.split(\"\\\\\")[-1]\n",
    "    for image_path in glob.glob(os.path.join(dir_path,\"*.jpg\")):\n",
    "        image = cv2.imread(image_path,cv2.IMREAD_COLOR)\n",
    "        image = cv2.resize(image, (64, 64))\n",
    "        image = cv2.cvtColor(image, cv2.COLOR_RGB2BGR)\n",
    "        training_fruit_img.append(image)\n",
    "        training_label.append(img_label)\n",
    "training_fruit_img = np.array(training_fruit_img)\n",
    "training_label = np.array(training_label)"
   ]
  },
  {
   "cell_type": "code",
   "execution_count": 3,
   "metadata": {
    "ExecuteTime": {
     "end_time": "2018-06-27T07:11:25.776786Z",
     "start_time": "2018-06-27T07:11:25.758794Z"
    }
   },
   "outputs": [],
   "source": [
    "label_to_id = {v:k for k,v in enumerate(np.unique(training_label)) }\n",
    "id_to_label = {v:k for k,v in label_to_id.items() }"
   ]
  },
  {
   "cell_type": "code",
   "execution_count": 104,
   "metadata": {
    "ExecuteTime": {
     "end_time": "2018-06-27T10:49:47.244728Z",
     "start_time": "2018-06-27T10:49:47.204747Z"
    },
    "scrolled": true
   },
   "outputs": [
    {
     "data": {
      "text/html": [
       "<div>\n",
       "<style scoped>\n",
       "    .dataframe tbody tr th:only-of-type {\n",
       "        vertical-align: middle;\n",
       "    }\n",
       "\n",
       "    .dataframe tbody tr th {\n",
       "        vertical-align: top;\n",
       "    }\n",
       "\n",
       "    .dataframe thead th {\n",
       "        text-align: right;\n",
       "    }\n",
       "</style>\n",
       "<table border=\"1\" class=\"dataframe\">\n",
       "  <thead>\n",
       "    <tr style=\"text-align: right;\">\n",
       "      <th></th>\n",
       "      <th>0</th>\n",
       "      <th>1</th>\n",
       "      <th>2</th>\n",
       "      <th>3</th>\n",
       "      <th>4</th>\n",
       "      <th>5</th>\n",
       "      <th>6</th>\n",
       "      <th>7</th>\n",
       "      <th>8</th>\n",
       "      <th>9</th>\n",
       "      <th>...</th>\n",
       "      <th>61</th>\n",
       "      <th>62</th>\n",
       "      <th>63</th>\n",
       "      <th>64</th>\n",
       "      <th>65</th>\n",
       "      <th>66</th>\n",
       "      <th>67</th>\n",
       "      <th>68</th>\n",
       "      <th>69</th>\n",
       "      <th>70</th>\n",
       "    </tr>\n",
       "  </thead>\n",
       "  <tbody>\n",
       "    <tr>\n",
       "      <th>image Label</th>\n",
       "      <td>Apple Braeburn</td>\n",
       "      <td>Apple Golden 1</td>\n",
       "      <td>Apple Golden 2</td>\n",
       "      <td>Apple Golden 3</td>\n",
       "      <td>Apple Granny Smith</td>\n",
       "      <td>Apple Red 1</td>\n",
       "      <td>Apple Red 2</td>\n",
       "      <td>Apple Red 3</td>\n",
       "      <td>Apple Red Delicious</td>\n",
       "      <td>Apple Red Yellow</td>\n",
       "      <td>...</td>\n",
       "      <td>Plum</td>\n",
       "      <td>Pomegranate</td>\n",
       "      <td>Quince</td>\n",
       "      <td>Rambutan</td>\n",
       "      <td>Raspberry</td>\n",
       "      <td>Salak</td>\n",
       "      <td>Strawberry</td>\n",
       "      <td>Strawberry Wedge</td>\n",
       "      <td>Tamarillo</td>\n",
       "      <td>Tangelo</td>\n",
       "    </tr>\n",
       "  </tbody>\n",
       "</table>\n",
       "<p>1 rows × 71 columns</p>\n",
       "</div>"
      ],
      "text/plain": [
       "                         0               1               2               3   \\\n",
       "image Label  Apple Braeburn  Apple Golden 1  Apple Golden 2  Apple Golden 3   \n",
       "\n",
       "                             4            5            6            7   \\\n",
       "image Label  Apple Granny Smith  Apple Red 1  Apple Red 2  Apple Red 3   \n",
       "\n",
       "                              8                 9    ...       61  \\\n",
       "image Label  Apple Red Delicious  Apple Red Yellow   ...     Plum   \n",
       "\n",
       "                      62      63        64         65     66          67  \\\n",
       "image Label  Pomegranate  Quince  Rambutan  Raspberry  Salak  Strawberry   \n",
       "\n",
       "                           68         69       70  \n",
       "image Label  Strawberry Wedge  Tamarillo  Tangelo  \n",
       "\n",
       "[1 rows x 71 columns]"
      ]
     },
     "execution_count": 104,
     "metadata": {},
     "output_type": "execute_result"
    }
   ],
   "source": [
    "pd.DataFrame(id_to_label,index=['image Label'])"
   ]
  },
  {
   "cell_type": "code",
   "execution_count": 5,
   "metadata": {
    "ExecuteTime": {
     "end_time": "2018-06-27T07:11:25.845753Z",
     "start_time": "2018-06-27T07:11:25.812768Z"
    }
   },
   "outputs": [
    {
     "data": {
      "text/plain": [
       "array([ 0,  0,  0, ..., 70, 70, 70])"
      ]
     },
     "execution_count": 5,
     "metadata": {},
     "output_type": "execute_result"
    }
   ],
   "source": [
    "training_label_id = np.array([label_to_id[i] for i in training_label])\n",
    "training_label_id"
   ]
  },
  {
   "cell_type": "code",
   "execution_count": 6,
   "metadata": {
    "ExecuteTime": {
     "end_time": "2018-06-27T07:11:25.855748Z",
     "start_time": "2018-06-27T07:11:25.847752Z"
    }
   },
   "outputs": [
    {
     "data": {
      "text/plain": [
       "((35625, 64, 64, 3), (35625,))"
      ]
     },
     "execution_count": 6,
     "metadata": {},
     "output_type": "execute_result"
    }
   ],
   "source": [
    "training_fruit_img.shape,training_label_id.shape"
   ]
  },
  {
   "cell_type": "code",
   "execution_count": 116,
   "metadata": {
    "ExecuteTime": {
     "end_time": "2018-06-27T11:26:22.020449Z",
     "start_time": "2018-06-27T11:26:12.932810Z"
    }
   },
   "outputs": [],
   "source": [
    "validation_fruit_img=[]\n",
    "validation_label =[]\n",
    "for dir_path in glob.glob(\"fruits-360/Test/*\"):\n",
    "    img_label = dir_path.split(\"\\\\\")[-1]\n",
    "    for image_path in glob.glob(os.path.join(dir_path,\"*.jpg\")):\n",
    "        image = cv2.imread(image_path,cv2.IMREAD_COLOR)\n",
    "        image = cv2.resize(image, (64, 64))\n",
    "        image = cv2.cvtColor(image, cv2.COLOR_RGB2BGR)\n",
    "        validation_fruit_img.append(image)\n",
    "        validation_label.append(img_label)\n",
    "validation_fruit_img = np.array(validation_fruit_img)\n",
    "validation_label = np.array(validation_label)"
   ]
  },
  {
   "cell_type": "code",
   "execution_count": null,
   "metadata": {
    "ExecuteTime": {
     "end_time": "2018-06-27T11:26:22.129398Z",
     "start_time": "2018-06-27T11:26:16.928Z"
    }
   },
   "outputs": [],
   "source": [
    "validation_label_id = np.array([label_to_id[i] for i in validation_label])\n",
    "validation_label_id"
   ]
  },
  {
   "cell_type": "code",
   "execution_count": null,
   "metadata": {
    "ExecuteTime": {
     "end_time": "2018-06-27T11:26:22.220354Z",
     "start_time": "2018-06-27T11:26:18.421Z"
    }
   },
   "outputs": [],
   "source": [
    "validation_fruit_img.shape,validation_label_id.shape"
   ]
  },
  {
   "cell_type": "code",
   "execution_count": null,
   "metadata": {
    "ExecuteTime": {
     "end_time": "2018-06-27T11:26:22.311310Z",
     "start_time": "2018-06-27T11:26:19.361Z"
    }
   },
   "outputs": [],
   "source": [
    "X_train,X_test = training_fruit_img,validation_fruit_img\n",
    "Y_train_r,Y_test_r =training_label_id,validation_label_id\n",
    "#mean(X) = np.mean(X_train)\n",
    "X_train = X_train/255\n",
    "X_test = X_test/255\n",
    "\n",
    "X_flat_train = X_train.reshape(X_train.shape[0],64*64*3)\n",
    "X_flat_test = X_test.reshape(X_test.shape[0],64*64*3)\n",
    "\n",
    "#One Hot Encode the Output\n",
    "from keras.utils import to_categorical\n",
    "num_of_classes = 65\n",
    "Y_train = to_categorical(Y_train_r)\n",
    "Y_test = to_categorical(Y_test_r)\n",
    "\n",
    "# from keras.utils import to_categorical\n",
    "# to_categorical(Y_test, 65)\n",
    "\n",
    "# y_train = pd.get_dummies(Y_train)\n",
    "# y_test = pd.get_dummies(Y_test)\n",
    "\n",
    "print('Original Sizes:')\n",
    "print('   - X_train:', X_train.shape)\n",
    "print('   - X_test: ', X_test.shape)\n",
    "print('   - Y_train:', Y_train.shape)\n",
    "print('   - Y_test: ', Y_test.shape)\n",
    "\n",
    "# print('Flattened:')\n",
    "# print('   - X_flat_train:', X_flat_train.shape)\n",
    "# print('   - X_flat_test: ', X_flat_test.shape)"
   ]
  },
  {
   "cell_type": "code",
   "execution_count": 11,
   "metadata": {
    "ExecuteTime": {
     "end_time": "2018-06-27T07:11:40.718613Z",
     "start_time": "2018-06-27T07:11:40.493723Z"
    }
   },
   "outputs": [
    {
     "name": "stdout",
     "output_type": "stream",
     "text": [
      "(64, 64, 3)\n"
     ]
    },
    {
     "data": {
      "image/png": "[encoded data removed]",
      "text/plain": [
       "<Figure size 432x288 with 1 Axes>"
      ]
     },
     "metadata": {},
     "output_type": "display_data"
    }
   ],
   "source": [
    "print(X_train[1200].shape)\n",
    "plt.imshow(X_train[1200])\n",
    "plt.show()"
   ]
  },
  {
   "cell_type": "code",
   "execution_count": null,
   "metadata": {},
   "outputs": [],
   "source": []
  },
  {
   "cell_type": "code",
   "execution_count": null,
   "metadata": {},
   "outputs": [],
   "source": []
  },
  {
   "cell_type": "code",
   "execution_count": 12,
   "metadata": {
    "ExecuteTime": {
     "end_time": "2018-06-27T07:11:41.761114Z",
     "start_time": "2018-06-27T07:11:40.720613Z"
    },
    "scrolled": true
   },
   "outputs": [
    {
     "name": "stdout",
     "output_type": "stream",
     "text": [
      "_________________________________________________________________\n",
      "Layer (type)                 Output Shape              Param #   \n",
      "=================================================================\n",
      "conv2d_1 (Conv2D)            (None, 62, 62, 16)        448       \n",
      "_________________________________________________________________\n",
      "batch_normalization_1 (Batch (None, 62, 62, 16)        64        \n",
      "_________________________________________________________________\n",
      "activation_1 (Activation)    (None, 62, 62, 16)        0         \n",
      "_________________________________________________________________\n",
      "conv2d_2 (Conv2D)            (None, 60, 60, 16)        2320      \n",
      "_________________________________________________________________\n",
      "batch_normalization_2 (Batch (None, 60, 60, 16)        64        \n",
      "_________________________________________________________________\n",
      "activation_2 (Activation)    (None, 60, 60, 16)        0         \n",
      "_________________________________________________________________\n",
      "max_pooling2d_1 (MaxPooling2 (None, 30, 30, 16)        0         \n",
      "_________________________________________________________________\n",
      "conv2d_3 (Conv2D)            (None, 28, 28, 32)        4640      \n",
      "_________________________________________________________________\n",
      "batch_normalization_3 (Batch (None, 28, 28, 32)        128       \n",
      "_________________________________________________________________\n",
      "activation_3 (Activation)    (None, 28, 28, 32)        0         \n",
      "_________________________________________________________________\n",
      "conv2d_4 (Conv2D)            (None, 26, 26, 32)        9248      \n",
      "_________________________________________________________________\n",
      "batch_normalization_4 (Batch (None, 26, 26, 32)        128       \n",
      "_________________________________________________________________\n",
      "activation_4 (Activation)    (None, 26, 26, 32)        0         \n",
      "_________________________________________________________________\n",
      "max_pooling2d_2 (MaxPooling2 (None, 13, 13, 32)        0         \n",
      "_________________________________________________________________\n",
      "conv2d_5 (Conv2D)            (None, 11, 11, 64)        18496     \n",
      "_________________________________________________________________\n",
      "batch_normalization_5 (Batch (None, 11, 11, 64)        256       \n",
      "_________________________________________________________________\n",
      "activation_5 (Activation)    (None, 11, 11, 64)        0         \n",
      "_________________________________________________________________\n",
      "max_pooling2d_3 (MaxPooling2 (None, 5, 5, 64)          0         \n",
      "_________________________________________________________________\n",
      "flatten_1 (Flatten)          (None, 1600)              0         \n",
      "_________________________________________________________________\n",
      "dense_1 (Dense)              (None, 512)               819712    \n",
      "_________________________________________________________________\n",
      "batch_normalization_6 (Batch (None, 512)               2048      \n",
      "_________________________________________________________________\n",
      "activation_6 (Activation)    (None, 512)               0         \n",
      "_________________________________________________________________\n",
      "dropout_1 (Dropout)          (None, 512)               0         \n",
      "_________________________________________________________________\n",
      "dense_2 (Dense)              (None, 71)                36423     \n",
      "_________________________________________________________________\n",
      "activation_7 (Activation)    (None, 71)                0         \n",
      "=================================================================\n",
      "Total params: 893,975\n",
      "Trainable params: 892,631\n",
      "Non-trainable params: 1,344\n",
      "_________________________________________________________________\n"
     ]
    }
   ],
   "source": [
    "# Create model\n",
    "from keras.models import Sequential\n",
    "from keras.layers import Conv2D, MaxPooling2D, Dense, Dropout, Flatten\n",
    "from keras.layers import Activation, BatchNormalization, regularizers\n",
    "\n",
    "model = Sequential()\n",
    "\n",
    "model.add(Conv2D(16, (3, 3), input_shape=(64,64,3)))\n",
    "model.add(BatchNormalization())\n",
    "model.add(Activation('relu'))\n",
    "model.add(Conv2D(16, (3, 3)))\n",
    "model.add(BatchNormalization())\n",
    "model.add(Activation('relu'))\n",
    "model.add(MaxPooling2D(pool_size=(2,2)))\n",
    "\n",
    "model.add(Conv2D(32,(3,3 )))\n",
    "model.add(BatchNormalization())\n",
    "model.add(Activation('relu'))\n",
    "model.add(Conv2D(32, (3, 3)))\n",
    "model.add(BatchNormalization())\n",
    "model.add(Activation('relu'))\n",
    "model.add(MaxPooling2D(pool_size=(2,2)))\n",
    "\n",
    "model.add(Conv2D(64, (3, 3)))\n",
    "model.add(BatchNormalization())\n",
    "model.add(Activation('relu'))\n",
    "model.add(MaxPooling2D(pool_size=(2,2)))\n",
    "\n",
    "\n",
    "model.add(Flatten())\n",
    "\n",
    "# Fully connected layer\n",
    "model.add(Dense(512))\n",
    "model.add(BatchNormalization())\n",
    "model.add(Activation('relu'))\n",
    "model.add(Dropout(0.5))\n",
    "model.add(Dense(71))\n",
    "\n",
    "model.add(Activation('softmax'))\n",
    "model.summary()"
   ]
  },
  {
   "cell_type": "code",
   "execution_count": 13,
   "metadata": {
    "ExecuteTime": {
     "end_time": "2018-06-27T07:11:41.825084Z",
     "start_time": "2018-06-27T07:11:41.763114Z"
    }
   },
   "outputs": [],
   "source": [
    "# compile model\n",
    "model.compile(optimizer='rmsprop',\n",
    "              loss='categorical_crossentropy',\n",
    "              metrics=['accuracy'])"
   ]
  },
  {
   "cell_type": "code",
   "execution_count": 14,
   "metadata": {
    "ExecuteTime": {
     "end_time": "2018-06-27T09:16:29.412718Z",
     "start_time": "2018-06-27T07:11:41.827083Z"
    }
   },
   "outputs": [
    {
     "name": "stdout",
     "output_type": "stream",
     "text": [
      "Train on 35625 samples, validate on 11968 samples\n",
      "Epoch 1/10\n",
      "35625/35625 [==============================] - 756s 21ms/step - loss: 0.2547 - acc: 0.9363 - val_loss: 0.4374 - val_acc: 0.8678\n",
      "Epoch 2/10\n",
      "35625/35625 [==============================] - 749s 21ms/step - loss: 0.0370 - acc: 0.9887 - val_loss: 0.3571 - val_acc: 0.9058\n",
      "Epoch 3/10\n",
      "35625/35625 [==============================] - 748s 21ms/step - loss: 0.0284 - acc: 0.9898 - val_loss: 0.1825 - val_acc: 0.9511\n",
      "Epoch 4/10\n",
      "35625/35625 [==============================] - 747s 21ms/step - loss: 0.0252 - acc: 0.9900 - val_loss: 0.1415 - val_acc: 0.9623\n",
      "Epoch 5/10\n",
      "35625/35625 [==============================] - 747s 21ms/step - loss: 0.0208 - acc: 0.9917 - val_loss: 0.2501 - val_acc: 0.9403\n",
      "Epoch 6/10\n",
      "35625/35625 [==============================] - 748s 21ms/step - loss: 0.0208 - acc: 0.9911 - val_loss: 0.6846 - val_acc: 0.8782\n",
      "Epoch 7/10\n",
      "35625/35625 [==============================] - 748s 21ms/step - loss: 0.0184 - acc: 0.9922 - val_loss: 0.2639 - val_acc: 0.9393\n",
      "Epoch 8/10\n",
      "35625/35625 [==============================] - 748s 21ms/step - loss: 0.0165 - acc: 0.9922 - val_loss: 0.1889 - val_acc: 0.9518\n",
      "Epoch 9/10\n",
      "35625/35625 [==============================] - 748s 21ms/step - loss: 0.0170 - acc: 0.9923 - val_loss: 0.4024 - val_acc: 0.9274\n",
      "Epoch 10/10\n",
      "35625/35625 [==============================] - 747s 21ms/step - loss: 0.0162 - acc: 0.9923 - val_loss: 0.2929 - val_acc: 0.9495\n"
     ]
    }
   ],
   "source": [
    "# model.fit(X_train,\n",
    "#           Y_train,\n",
    "#           batch_size=128,\n",
    "#           epochs=10,\n",
    "#           verbose=1,\n",
    "#           validation_data = (X_test,Y_test)\n",
    "#          )\n",
    "\n",
    "train_model_1 = model.fit(X_train, Y_train, \n",
    "                          batch_size=64, epochs=10, \n",
    "                          verbose=1, validation_data=(X_test, Y_test))"
   ]
  },
  {
   "cell_type": "code",
   "execution_count": 25,
   "metadata": {
    "ExecuteTime": {
     "end_time": "2018-06-27T09:35:18.792351Z",
     "start_time": "2018-06-27T09:35:18.774360Z"
    }
   },
   "outputs": [
    {
     "data": {
      "text/html": [
       "<div>\n",
       "<style scoped>\n",
       "    .dataframe tbody tr th:only-of-type {\n",
       "        vertical-align: middle;\n",
       "    }\n",
       "\n",
       "    .dataframe tbody tr th {\n",
       "        vertical-align: top;\n",
       "    }\n",
       "\n",
       "    .dataframe thead th {\n",
       "        text-align: right;\n",
       "    }\n",
       "</style>\n",
       "<table border=\"1\" class=\"dataframe\">\n",
       "  <thead>\n",
       "    <tr style=\"text-align: right;\">\n",
       "      <th></th>\n",
       "      <th>acc</th>\n",
       "      <th>loss</th>\n",
       "      <th>val_acc</th>\n",
       "      <th>val_loss</th>\n",
       "    </tr>\n",
       "  </thead>\n",
       "  <tbody>\n",
       "    <tr>\n",
       "      <th>0</th>\n",
       "      <td>0.936337</td>\n",
       "      <td>0.254717</td>\n",
       "      <td>0.867814</td>\n",
       "      <td>0.437390</td>\n",
       "    </tr>\n",
       "    <tr>\n",
       "      <th>1</th>\n",
       "      <td>0.988660</td>\n",
       "      <td>0.037037</td>\n",
       "      <td>0.905832</td>\n",
       "      <td>0.357079</td>\n",
       "    </tr>\n",
       "    <tr>\n",
       "      <th>2</th>\n",
       "      <td>0.989754</td>\n",
       "      <td>0.028450</td>\n",
       "      <td>0.951120</td>\n",
       "      <td>0.182526</td>\n",
       "    </tr>\n",
       "    <tr>\n",
       "      <th>3</th>\n",
       "      <td>0.990007</td>\n",
       "      <td>0.025173</td>\n",
       "      <td>0.962316</td>\n",
       "      <td>0.141505</td>\n",
       "    </tr>\n",
       "    <tr>\n",
       "      <th>4</th>\n",
       "      <td>0.991663</td>\n",
       "      <td>0.020784</td>\n",
       "      <td>0.940341</td>\n",
       "      <td>0.250132</td>\n",
       "    </tr>\n",
       "    <tr>\n",
       "      <th>5</th>\n",
       "      <td>0.991074</td>\n",
       "      <td>0.020832</td>\n",
       "      <td>0.878175</td>\n",
       "      <td>0.684621</td>\n",
       "    </tr>\n",
       "    <tr>\n",
       "      <th>6</th>\n",
       "      <td>0.992168</td>\n",
       "      <td>0.018439</td>\n",
       "      <td>0.939255</td>\n",
       "      <td>0.263892</td>\n",
       "    </tr>\n",
       "    <tr>\n",
       "      <th>7</th>\n",
       "      <td>0.992196</td>\n",
       "      <td>0.016474</td>\n",
       "      <td>0.951788</td>\n",
       "      <td>0.188913</td>\n",
       "    </tr>\n",
       "    <tr>\n",
       "      <th>8</th>\n",
       "      <td>0.992281</td>\n",
       "      <td>0.016966</td>\n",
       "      <td>0.927390</td>\n",
       "      <td>0.402354</td>\n",
       "    </tr>\n",
       "    <tr>\n",
       "      <th>9</th>\n",
       "      <td>0.992309</td>\n",
       "      <td>0.016167</td>\n",
       "      <td>0.949532</td>\n",
       "      <td>0.292905</td>\n",
       "    </tr>\n",
       "  </tbody>\n",
       "</table>\n",
       "</div>"
      ],
      "text/plain": [
       "        acc      loss   val_acc  val_loss\n",
       "0  0.936337  0.254717  0.867814  0.437390\n",
       "1  0.988660  0.037037  0.905832  0.357079\n",
       "2  0.989754  0.028450  0.951120  0.182526\n",
       "3  0.990007  0.025173  0.962316  0.141505\n",
       "4  0.991663  0.020784  0.940341  0.250132\n",
       "5  0.991074  0.020832  0.878175  0.684621\n",
       "6  0.992168  0.018439  0.939255  0.263892\n",
       "7  0.992196  0.016474  0.951788  0.188913\n",
       "8  0.992281  0.016966  0.927390  0.402354\n",
       "9  0.992309  0.016167  0.949532  0.292905"
      ]
     },
     "execution_count": 25,
     "metadata": {},
     "output_type": "execute_result"
    }
   ],
   "source": [
    "pd.DataFrame(train_model_1.history)"
   ]
  },
  {
   "cell_type": "code",
   "execution_count": 18,
   "metadata": {
    "ExecuteTime": {
     "end_time": "2018-06-27T09:27:18.450516Z",
     "start_time": "2018-06-27T09:27:18.026719Z"
    }
   },
   "outputs": [],
   "source": [
    "from keras.models import save_model\n",
    "save_model(model, 'HP.HDF5')"
   ]
  },
  {
   "cell_type": "code",
   "execution_count": 101,
   "metadata": {
    "ExecuteTime": {
     "end_time": "2018-06-27T10:47:29.240002Z",
     "start_time": "2018-06-27T10:47:29.235004Z"
    }
   },
   "outputs": [],
   "source": [
    "def predict_img(path):\n",
    "    img_label = path.split(\"\\\\\")[-1]\n",
    "    image = cv2.imread(path,cv2.IMREAD_COLOR)\n",
    "    image = cv2.cvtColor(image, cv2.COLOR_RGB2BGR)\n",
    "    plt.imshow(image)\n",
    "    plt.show()\n",
    "    image = cv2.resize(image, (64, 64))\n",
    "    image = image/255\n",
    "    image = image.reshape(1,64,64,3)\n",
    "    label_code = model.predict_classes(image)\n",
    "    print(id_to_label[13])    "
   ]
  },
  {
   "cell_type": "code",
   "execution_count": 100,
   "metadata": {
    "ExecuteTime": {
     "end_time": "2018-06-27T10:46:47.066294Z",
     "start_time": "2018-06-27T10:46:46.772435Z"
    }
   },
   "outputs": [
    {
     "data": {
      "image/png": "[encoded data removed]",
      "text/plain": [
       "<Figure size 432x288 with 1 Axes>"
      ]
     },
     "metadata": {},
     "output_type": "display_data"
    },
    {
     "name": "stdout",
     "output_type": "stream",
     "text": [
      "(1, 64, 64, 3)\n",
      "Banana\n"
     ]
    }
   ],
   "source": [
    "path = r\"E:\\CBD\\16.Fruit-classification-using-CNN\\fruits-360\\To_predict\\4_bananas.jpg\"\n",
    "predict_img(path)"
   ]
  },
  {
   "cell_type": "code",
   "execution_count": 95,
   "metadata": {
    "ExecuteTime": {
     "end_time": "2018-06-27T10:42:36.242182Z",
     "start_time": "2018-06-27T10:42:36.214194Z"
    }
   },
   "outputs": [
    {
     "ename": "IndexError",
     "evalue": "index 13 is out of bounds for axis 1 with size 13",
     "output_type": "error",
     "traceback": [
      "\u001b[1;31m---------------------------------------------------------------------------\u001b[0m",
      "\u001b[1;31mIndexError\u001b[0m                                Traceback (most recent call last)",
      "\u001b[1;32m<ipython-input-95-b8bdb7b62012>\u001b[0m in \u001b[0;36m<module>\u001b[1;34m()\u001b[0m\n\u001b[1;32m----> 1\u001b[1;33m \u001b[0mnp\u001b[0m\u001b[1;33m.\u001b[0m\u001b[0margmax\u001b[0m\u001b[1;33m(\u001b[0m\u001b[0mto_categorical\u001b[0m\u001b[1;33m(\u001b[0m\u001b[0mY_train_r\u001b[0m\u001b[1;33m,\u001b[0m\u001b[1;36m13\u001b[0m\u001b[1;33m)\u001b[0m \u001b[1;33m,\u001b[0m\u001b[0maxis\u001b[0m\u001b[1;33m=\u001b[0m\u001b[1;36m1\u001b[0m\u001b[1;33m)\u001b[0m\u001b[1;33m\u001b[0m\u001b[0m\n\u001b[0m",
      "\u001b[1;32m~\\Anaconda3\\lib\\site-packages\\keras\\utils\\np_utils.py\u001b[0m in \u001b[0;36mto_categorical\u001b[1;34m(y, num_classes)\u001b[0m\n\u001b[0;32m     30\u001b[0m     \u001b[0mn\u001b[0m \u001b[1;33m=\u001b[0m \u001b[0my\u001b[0m\u001b[1;33m.\u001b[0m\u001b[0mshape\u001b[0m\u001b[1;33m[\u001b[0m\u001b[1;36m0\u001b[0m\u001b[1;33m]\u001b[0m\u001b[1;33m\u001b[0m\u001b[0m\n\u001b[0;32m     31\u001b[0m     \u001b[0mcategorical\u001b[0m \u001b[1;33m=\u001b[0m \u001b[0mnp\u001b[0m\u001b[1;33m.\u001b[0m\u001b[0mzeros\u001b[0m\u001b[1;33m(\u001b[0m\u001b[1;33m(\u001b[0m\u001b[0mn\u001b[0m\u001b[1;33m,\u001b[0m \u001b[0mnum_classes\u001b[0m\u001b[1;33m)\u001b[0m\u001b[1;33m,\u001b[0m \u001b[0mdtype\u001b[0m\u001b[1;33m=\u001b[0m\u001b[0mnp\u001b[0m\u001b[1;33m.\u001b[0m\u001b[0mfloat32\u001b[0m\u001b[1;33m)\u001b[0m\u001b[1;33m\u001b[0m\u001b[0m\n\u001b[1;32m---> 32\u001b[1;33m     \u001b[0mcategorical\u001b[0m\u001b[1;33m[\u001b[0m\u001b[0mnp\u001b[0m\u001b[1;33m.\u001b[0m\u001b[0marange\u001b[0m\u001b[1;33m(\u001b[0m\u001b[0mn\u001b[0m\u001b[1;33m)\u001b[0m\u001b[1;33m,\u001b[0m \u001b[0my\u001b[0m\u001b[1;33m]\u001b[0m \u001b[1;33m=\u001b[0m \u001b[1;36m1\u001b[0m\u001b[1;33m\u001b[0m\u001b[0m\n\u001b[0m\u001b[0;32m     33\u001b[0m     \u001b[0moutput_shape\u001b[0m \u001b[1;33m=\u001b[0m \u001b[0minput_shape\u001b[0m \u001b[1;33m+\u001b[0m \u001b[1;33m(\u001b[0m\u001b[0mnum_classes\u001b[0m\u001b[1;33m,\u001b[0m\u001b[1;33m)\u001b[0m\u001b[1;33m\u001b[0m\u001b[0m\n\u001b[0;32m     34\u001b[0m     \u001b[0mcategorical\u001b[0m \u001b[1;33m=\u001b[0m \u001b[0mnp\u001b[0m\u001b[1;33m.\u001b[0m\u001b[0mreshape\u001b[0m\u001b[1;33m(\u001b[0m\u001b[0mcategorical\u001b[0m\u001b[1;33m,\u001b[0m \u001b[0moutput_shape\u001b[0m\u001b[1;33m)\u001b[0m\u001b[1;33m\u001b[0m\u001b[0m\n",
      "\u001b[1;31mIndexError\u001b[0m: index 13 is out of bounds for axis 1 with size 13"
     ]
    }
   ],
   "source": []
  },
  {
   "cell_type": "code",
   "execution_count": 102,
   "metadata": {
    "ExecuteTime": {
     "end_time": "2018-06-27T10:48:43.492575Z",
     "start_time": "2018-06-27T10:48:43.488577Z"
    }
   },
   "outputs": [],
   "source": [
    "from sklearn.metrics import classification_report"
   ]
  },
  {
   "cell_type": "code",
   "execution_count": 103,
   "metadata": {
    "ExecuteTime": {
     "end_time": "2018-06-27T10:48:51.810002Z",
     "start_time": "2018-06-27T10:48:51.789012Z"
    }
   },
   "outputs": [],
   "source": [
    "classification_report(Y_test, )"
   ]
  },
  {
   "cell_type": "code",
   "execution_count": 117,
   "metadata": {
    "ExecuteTime": {
     "end_time": "2018-06-27T11:34:57.365998Z",
     "start_time": "2018-06-27T11:33:51.673522Z"
    }
   },
   "outputs": [
    {
     "ename": "ValueError",
     "evalue": "Mix type of y not allowed, got types {'multilabel-indicator', 'continuous-multioutput'}",
     "output_type": "error",
     "traceback": [
      "\u001b[1;31m---------------------------------------------------------------------------\u001b[0m",
      "\u001b[1;31mValueError\u001b[0m                                Traceback (most recent call last)",
      "\u001b[1;32m<ipython-input-117-614ace854ede>\u001b[0m in \u001b[0;36m<module>\u001b[1;34m()\u001b[0m\n\u001b[0;32m      1\u001b[0m \u001b[0mY_pred\u001b[0m \u001b[1;33m=\u001b[0m \u001b[0mmodel\u001b[0m\u001b[1;33m.\u001b[0m\u001b[0mpredict\u001b[0m\u001b[1;33m(\u001b[0m\u001b[0mX_test\u001b[0m\u001b[1;33m)\u001b[0m\u001b[1;33m\u001b[0m\u001b[0m\n\u001b[1;32m----> 2\u001b[1;33m \u001b[0mclassification_report\u001b[0m\u001b[1;33m(\u001b[0m\u001b[0mY_test\u001b[0m\u001b[1;33m,\u001b[0m\u001b[0mY_pred\u001b[0m\u001b[1;33m,\u001b[0m\u001b[0mtarget_names\u001b[0m\u001b[1;33m=\u001b[0m\u001b[0mid_to_label\u001b[0m\u001b[1;33m.\u001b[0m\u001b[0mvalues\u001b[0m\u001b[1;33m(\u001b[0m\u001b[1;33m)\u001b[0m\u001b[1;33m)\u001b[0m\u001b[1;33m\u001b[0m\u001b[0m\n\u001b[0m",
      "\u001b[1;32m~\\Anaconda3\\lib\\site-packages\\sklearn\\metrics\\classification.py\u001b[0m in \u001b[0;36mclassification_report\u001b[1;34m(y_true, y_pred, labels, target_names, sample_weight, digits)\u001b[0m\n\u001b[0;32m   1419\u001b[0m \u001b[1;33m\u001b[0m\u001b[0m\n\u001b[0;32m   1420\u001b[0m     \u001b[1;32mif\u001b[0m \u001b[0mlabels\u001b[0m \u001b[1;32mis\u001b[0m \u001b[1;32mNone\u001b[0m\u001b[1;33m:\u001b[0m\u001b[1;33m\u001b[0m\u001b[0m\n\u001b[1;32m-> 1421\u001b[1;33m         \u001b[0mlabels\u001b[0m \u001b[1;33m=\u001b[0m \u001b[0munique_labels\u001b[0m\u001b[1;33m(\u001b[0m\u001b[0my_true\u001b[0m\u001b[1;33m,\u001b[0m \u001b[0my_pred\u001b[0m\u001b[1;33m)\u001b[0m\u001b[1;33m\u001b[0m\u001b[0m\n\u001b[0m\u001b[0;32m   1422\u001b[0m     \u001b[1;32melse\u001b[0m\u001b[1;33m:\u001b[0m\u001b[1;33m\u001b[0m\u001b[0m\n\u001b[0;32m   1423\u001b[0m         \u001b[0mlabels\u001b[0m \u001b[1;33m=\u001b[0m \u001b[0mnp\u001b[0m\u001b[1;33m.\u001b[0m\u001b[0masarray\u001b[0m\u001b[1;33m(\u001b[0m\u001b[0mlabels\u001b[0m\u001b[1;33m)\u001b[0m\u001b[1;33m\u001b[0m\u001b[0m\n",
      "\u001b[1;32m~\\Anaconda3\\lib\\site-packages\\sklearn\\utils\\multiclass.py\u001b[0m in \u001b[0;36munique_labels\u001b[1;34m(*ys)\u001b[0m\n\u001b[0;32m     81\u001b[0m \u001b[1;33m\u001b[0m\u001b[0m\n\u001b[0;32m     82\u001b[0m     \u001b[1;32mif\u001b[0m \u001b[0mlen\u001b[0m\u001b[1;33m(\u001b[0m\u001b[0mys_types\u001b[0m\u001b[1;33m)\u001b[0m \u001b[1;33m>\u001b[0m \u001b[1;36m1\u001b[0m\u001b[1;33m:\u001b[0m\u001b[1;33m\u001b[0m\u001b[0m\n\u001b[1;32m---> 83\u001b[1;33m         \u001b[1;32mraise\u001b[0m \u001b[0mValueError\u001b[0m\u001b[1;33m(\u001b[0m\u001b[1;34m\"Mix type of y not allowed, got types %s\"\u001b[0m \u001b[1;33m%\u001b[0m \u001b[0mys_types\u001b[0m\u001b[1;33m)\u001b[0m\u001b[1;33m\u001b[0m\u001b[0m\n\u001b[0m\u001b[0;32m     84\u001b[0m \u001b[1;33m\u001b[0m\u001b[0m\n\u001b[0;32m     85\u001b[0m     \u001b[0mlabel_type\u001b[0m \u001b[1;33m=\u001b[0m \u001b[0mys_types\u001b[0m\u001b[1;33m.\u001b[0m\u001b[0mpop\u001b[0m\u001b[1;33m(\u001b[0m\u001b[1;33m)\u001b[0m\u001b[1;33m\u001b[0m\u001b[0m\n",
      "\u001b[1;31mValueError\u001b[0m: Mix type of y not allowed, got types {'multilabel-indicator', 'continuous-multioutput'}"
     ]
    }
   ],
   "source": [
    "Y_pred = model.predict(X_test)\n",
    "classification_report(Y_test,Y_pred,target_names=id_to_label.values())"
   ]
  },
  {
   "cell_type": "code",
   "execution_count": 113,
   "metadata": {
    "ExecuteTime": {
     "end_time": "2018-06-27T10:56:36.062425Z",
     "start_time": "2018-06-27T10:56:36.056429Z"
    },
    "scrolled": true
   },
   "outputs": [
    {
     "data": {
      "text/plain": [
       "array([[1.00000000e+00, 1.22799251e-20, 9.83869719e-23, ...,\n",
       "        3.23972694e-27, 3.11211544e-24, 6.08168992e-30],\n",
       "       [1.00000000e+00, 3.88263975e-20, 2.70528955e-22, ...,\n",
       "        4.51477884e-27, 4.23518594e-24, 1.47459925e-29],\n",
       "       [1.00000000e+00, 4.07412786e-20, 3.15682545e-22, ...,\n",
       "        1.96561604e-27, 2.22727856e-24, 2.31368389e-29],\n",
       "       ...,\n",
       "       [1.23531529e-13, 1.23477062e-10, 1.72616799e-09, ...,\n",
       "        1.63834976e-14, 1.50157404e-11, 9.99998569e-01],\n",
       "       [1.12463053e-15, 4.69750683e-14, 1.02481435e-11, ...,\n",
       "        8.19488577e-18, 1.67643488e-09, 1.00000000e+00],\n",
       "       [3.31596776e-15, 1.52708385e-13, 1.62365902e-11, ...,\n",
       "        3.41978931e-17, 2.06798179e-09, 1.00000000e+00]], dtype=float32)"
      ]
     },
     "execution_count": 113,
     "metadata": {},
     "output_type": "execute_result"
    }
   ],
   "source": [
    "Y_pred"
   ]
  },
  {
   "cell_type": "code",
   "execution_count": null,
   "metadata": {},
   "outputs": [],
   "source": []
  }
 ],
 "metadata": {
  "hide_input": false,
  "kernelspec": {
   "display_name": "Python 3",
   "language": "python",
   "name": "python3"
  },
  "language_info": {
   "codemirror_mode": {
    "name": "ipython",
    "version": 3
   },
   "file_extension": ".py",
   "mimetype": "text/x-python",
   "name": "python",
   "nbconvert_exporter": "python",
   "pygments_lexer": "ipython3",
   "version": "3.6.4"
  },
  "toc": {
   "base_numbering": 1,
   "nav_menu": {},
   "number_sections": false,
   "sideBar": true,
   "skip_h1_title": false,
   "title_cell": "Table of Contents",
   "title_sidebar": "Contents",
   "toc_cell": false,
   "toc_position": {},
   "toc_section_display": true,
   "toc_window_display": true
  },
  "varInspector": {
   "cols": {
    "lenName": 16,
    "lenType": 16,
    "lenVar": 40
   },
   "kernels_config": {
    "python": {
     "delete_cmd_postfix": "",
     "delete_cmd_prefix": "del ",
     "library": "var_list.py",
     "varRefreshCmd": "print(var_dic_list())"
    },
    "r": {
     "delete_cmd_postfix": ") ",
     "delete_cmd_prefix": "rm(",
     "library": "var_list.r",
     "varRefreshCmd": "cat(var_dic_list()) "
    }
   },
   "types_to_exclude": [
    "module",
    "function",
    "builtin_function_or_method",
    "instance",
    "_Feature"
   ],
   "window_display": false
  }
 },
 "nbformat": 4,
 "nbformat_minor": 2
}
